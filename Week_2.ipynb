{
 "cells": [
  {
   "cell_type": "code",
   "execution_count": 2,
   "metadata": {},
   "outputs": [],
   "source": [
    "# データのロード\n",
    "import pandas as pd\n",
    "df = pd.read_csv('dummydata_A.csv', encoding='shift_jis')"
   ]
  },
  {
   "cell_type": "code",
   "execution_count": 3,
   "metadata": {},
   "outputs": [
    {
     "data": {
      "text/html": [
       "<div>\n",
       "<style scoped>\n",
       "    .dataframe tbody tr th:only-of-type {\n",
       "        vertical-align: middle;\n",
       "    }\n",
       "\n",
       "    .dataframe tbody tr th {\n",
       "        vertical-align: top;\n",
       "    }\n",
       "\n",
       "    .dataframe thead th {\n",
       "        text-align: right;\n",
       "    }\n",
       "</style>\n",
       "<table border=\"1\" class=\"dataframe\">\n",
       "  <thead>\n",
       "    <tr style=\"text-align: right;\">\n",
       "      <th></th>\n",
       "      <th>集計用乗率</th>\n",
       "      <th>年間収入(円)</th>\n",
       "      <th>消費支出額（合計）</th>\n",
       "      <th>食費</th>\n",
       "      <th>住居費</th>\n",
       "      <th>光熱・水道費</th>\n",
       "      <th>家具・家事用品費</th>\n",
       "      <th>被服及び履物費</th>\n",
       "      <th>保健医療費</th>\n",
       "      <th>交通・通信費</th>\n",
       "      <th>教育費</th>\n",
       "      <th>教養娯楽費</th>\n",
       "      <th>その他の消費支出</th>\n",
       "    </tr>\n",
       "  </thead>\n",
       "  <tbody>\n",
       "    <tr>\n",
       "      <th>count</th>\n",
       "      <td>1000.0</td>\n",
       "      <td>1000.0</td>\n",
       "      <td>1000.0</td>\n",
       "      <td>1000.0</td>\n",
       "      <td>1000.0</td>\n",
       "      <td>1000.0</td>\n",
       "      <td>1000.0</td>\n",
       "      <td>1000.0</td>\n",
       "      <td>1000.0</td>\n",
       "      <td>1000.0</td>\n",
       "      <td>1000.0</td>\n",
       "      <td>1000.0</td>\n",
       "      <td>1000.0</td>\n",
       "    </tr>\n",
       "    <tr>\n",
       "      <th>mean</th>\n",
       "      <td>683.0</td>\n",
       "      <td>7182471.0</td>\n",
       "      <td>311479.0</td>\n",
       "      <td>70310.0</td>\n",
       "      <td>14557.0</td>\n",
       "      <td>19781.0</td>\n",
       "      <td>9900.0</td>\n",
       "      <td>14255.0</td>\n",
       "      <td>13163.0</td>\n",
       "      <td>47165.0</td>\n",
       "      <td>17544.0</td>\n",
       "      <td>31964.0</td>\n",
       "      <td>72841.0</td>\n",
       "    </tr>\n",
       "    <tr>\n",
       "      <th>std</th>\n",
       "      <td>158.0</td>\n",
       "      <td>3981459.0</td>\n",
       "      <td>165992.0</td>\n",
       "      <td>29311.0</td>\n",
       "      <td>25282.0</td>\n",
       "      <td>8287.0</td>\n",
       "      <td>13756.0</td>\n",
       "      <td>18536.0</td>\n",
       "      <td>19802.0</td>\n",
       "      <td>71024.0</td>\n",
       "      <td>36205.0</td>\n",
       "      <td>36280.0</td>\n",
       "      <td>97295.0</td>\n",
       "    </tr>\n",
       "    <tr>\n",
       "      <th>min</th>\n",
       "      <td>510.0</td>\n",
       "      <td>721024.0</td>\n",
       "      <td>65492.0</td>\n",
       "      <td>14830.0</td>\n",
       "      <td>2.0</td>\n",
       "      <td>5548.0</td>\n",
       "      <td>151.0</td>\n",
       "      <td>461.0</td>\n",
       "      <td>172.0</td>\n",
       "      <td>179.0</td>\n",
       "      <td>0.0</td>\n",
       "      <td>615.0</td>\n",
       "      <td>1921.0</td>\n",
       "    </tr>\n",
       "    <tr>\n",
       "      <th>25%</th>\n",
       "      <td>555.0</td>\n",
       "      <td>4381936.0</td>\n",
       "      <td>209016.0</td>\n",
       "      <td>49610.0</td>\n",
       "      <td>536.0</td>\n",
       "      <td>13754.0</td>\n",
       "      <td>3206.0</td>\n",
       "      <td>4938.0</td>\n",
       "      <td>3578.0</td>\n",
       "      <td>12232.0</td>\n",
       "      <td>127.0</td>\n",
       "      <td>12846.0</td>\n",
       "      <td>26493.0</td>\n",
       "    </tr>\n",
       "    <tr>\n",
       "      <th>50%</th>\n",
       "      <td>589.0</td>\n",
       "      <td>6160264.0</td>\n",
       "      <td>273174.0</td>\n",
       "      <td>64734.0</td>\n",
       "      <td>2616.0</td>\n",
       "      <td>18072.0</td>\n",
       "      <td>6044.0</td>\n",
       "      <td>9061.0</td>\n",
       "      <td>7427.0</td>\n",
       "      <td>25754.0</td>\n",
       "      <td>5742.0</td>\n",
       "      <td>22746.0</td>\n",
       "      <td>47584.0</td>\n",
       "    </tr>\n",
       "    <tr>\n",
       "      <th>75%</th>\n",
       "      <td>798.0</td>\n",
       "      <td>9055992.0</td>\n",
       "      <td>369642.0</td>\n",
       "      <td>86369.0</td>\n",
       "      <td>18260.0</td>\n",
       "      <td>24305.0</td>\n",
       "      <td>11400.0</td>\n",
       "      <td>16215.0</td>\n",
       "      <td>15200.0</td>\n",
       "      <td>54129.0</td>\n",
       "      <td>19368.0</td>\n",
       "      <td>38722.0</td>\n",
       "      <td>84205.0</td>\n",
       "    </tr>\n",
       "    <tr>\n",
       "      <th>max</th>\n",
       "      <td>1351.0</td>\n",
       "      <td>29465164.0</td>\n",
       "      <td>2190746.0</td>\n",
       "      <td>204106.0</td>\n",
       "      <td>236572.0</td>\n",
       "      <td>64046.0</td>\n",
       "      <td>243353.0</td>\n",
       "      <td>237141.0</td>\n",
       "      <td>287851.0</td>\n",
       "      <td>919187.0</td>\n",
       "      <td>530429.0</td>\n",
       "      <td>537995.0</td>\n",
       "      <td>1824473.0</td>\n",
       "    </tr>\n",
       "  </tbody>\n",
       "</table>\n",
       "</div>"
      ],
      "text/plain": [
       "        集計用乗率     年間収入(円)  消費支出額（合計）        食費       住居費   光熱・水道費  家具・家事用品費  \\\n",
       "count  1000.0      1000.0     1000.0    1000.0    1000.0   1000.0    1000.0   \n",
       "mean    683.0   7182471.0   311479.0   70310.0   14557.0  19781.0    9900.0   \n",
       "std     158.0   3981459.0   165992.0   29311.0   25282.0   8287.0   13756.0   \n",
       "min     510.0    721024.0    65492.0   14830.0       2.0   5548.0     151.0   \n",
       "25%     555.0   4381936.0   209016.0   49610.0     536.0  13754.0    3206.0   \n",
       "50%     589.0   6160264.0   273174.0   64734.0    2616.0  18072.0    6044.0   \n",
       "75%     798.0   9055992.0   369642.0   86369.0   18260.0  24305.0   11400.0   \n",
       "max    1351.0  29465164.0  2190746.0  204106.0  236572.0  64046.0  243353.0   \n",
       "\n",
       "        被服及び履物費     保健医療費    交通・通信費       教育費     教養娯楽費   その他の消費支出  \n",
       "count    1000.0    1000.0    1000.0    1000.0    1000.0     1000.0  \n",
       "mean    14255.0   13163.0   47165.0   17544.0   31964.0    72841.0  \n",
       "std     18536.0   19802.0   71024.0   36205.0   36280.0    97295.0  \n",
       "min       461.0     172.0     179.0       0.0     615.0     1921.0  \n",
       "25%      4938.0    3578.0   12232.0     127.0   12846.0    26493.0  \n",
       "50%      9061.0    7427.0   25754.0    5742.0   22746.0    47584.0  \n",
       "75%     16215.0   15200.0   54129.0   19368.0   38722.0    84205.0  \n",
       "max    237141.0  287851.0  919187.0  530429.0  537995.0  1824473.0  "
      ]
     },
     "execution_count": 3,
     "metadata": {},
     "output_type": "execute_result"
    }
   ],
   "source": [
    "# 問題2-2\n",
    "df.describe().round(0)"
   ]
  },
  {
   "cell_type": "code",
   "execution_count": 4,
   "metadata": {},
   "outputs": [
    {
     "data": {
      "text/plain": [
       "158"
      ]
     },
     "execution_count": 4,
     "metadata": {},
     "output_type": "execute_result"
    }
   ],
   "source": [
    "# 問題2-3\n",
    "x = df['食費']\n",
    "((60000< x) & (x <=70000)).sum()"
   ]
  },
  {
   "cell_type": "code",
   "execution_count": 5,
   "metadata": {},
   "outputs": [
    {
     "data": {
      "text/plain": [
       "(array([  0.,   3.,  28.,  92., 139., 162., 158., 107.,  97.,  76.,  43.,\n",
       "         28.,  23.,  13.,  12.,   9.,   2.,   2.,   4.,   1.]),\n",
       " array([     0.,  10000.,  20000.,  30000.,  40000.,  50000.,  60000.,\n",
       "         70000.,  80000.,  90000., 100000., 110000., 120000., 130000.,\n",
       "        140000., 150000., 160000., 170000., 180000., 190000., 200000.]),\n",
       " <a list of 20 Patch objects>)"
      ]
     },
     "execution_count": 5,
     "metadata": {},
     "output_type": "execute_result"
    },
    {
     "data": {
      "image/png": "[encoded data removed]",
      "text/plain": [
       "<Figure size 432x288 with 1 Axes>"
      ]
     },
     "metadata": {
      "needs_background": "light"
     },
     "output_type": "display_data"
    }
   ],
   "source": [
    "# 問題2-4 \n",
    "import numpy as np\n",
    "import matplotlib.pyplot as plt \n",
    "%matplotlib inline\n",
    "\n",
    "plt.hist(x, bins=20, range=(0,200000))"
   ]
  },
  {
   "cell_type": "code",
   "execution_count": 6,
   "metadata": {},
   "outputs": [
    {
     "data": {
      "text/plain": [
       "家具・家事用品費     83887.0\n",
       "被服及び履物費      80872.0\n",
       "保健医療費        98972.0\n",
       "交通・通信費      315349.0\n",
       "dtype: float64"
      ]
     },
     "execution_count": 6,
     "metadata": {},
     "output_type": "execute_result"
    }
   ],
   "source": [
    "STD = df.describe().std().round(0)\n",
    "STD[['家具・家事用品費', '被服及び履物費','保健医療費', '交通・通信費']]"
   ]
  }
 ],
 "metadata": {
  "kernelspec": {
   "display_name": "Python 3",
   "language": "python",
   "name": "python3"
  },
  "language_info": {
   "codemirror_mode": {
    "name": "ipython",
    "version": 3
   },
   "file_extension": ".py",
   "mimetype": "text/x-python",
   "name": "python",
   "nbconvert_exporter": "python",
   "pygments_lexer": "ipython3",
   "version": "3.7.3"
  }
 },
 "nbformat": 4,
 "nbformat_minor": 2
}
