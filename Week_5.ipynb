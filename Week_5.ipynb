{
 "cells": [
  {
   "cell_type": "code",
   "execution_count": 1,
   "metadata": {},
   "outputs": [],
   "source": [
    "%cd C:\\Users\\programing\\dataset\\社会人のためのデータサイエンス演習"
   ]
  },
  {
   "cell_type": "code",
   "execution_count": 2,
   "metadata": {},
   "outputs": [
    {
     "name": "stdout",
     "output_type": "stream",
     "text": [
      "<class 'pandas.core.frame.DataFrame'>\n",
      "RangeIndex: 1000 entries, 0 to 999\n",
      "Data columns (total 18 columns):\n",
      "data_id          1000 non-null object\n",
      "居住地域             1000 non-null object\n",
      "企業規模             1000 non-null object\n",
      "子ども有無            1000 non-null object\n",
      "年間収入             1000 non-null int64\n",
      "消費支出額（合計）        1000 non-null int64\n",
      "食費               1000 non-null int64\n",
      "住居費              1000 non-null int64\n",
      "光熱・水道費           1000 non-null int64\n",
      "家具・家事用品費         1000 non-null int64\n",
      "被服及び履物費          1000 non-null int64\n",
      "保健医療費            1000 non-null int64\n",
      "交通・通信費           1000 non-null int64\n",
      "教育費              1000 non-null int64\n",
      "教養娯楽費            1000 non-null int64\n",
      "その他の消費支出         1000 non-null int64\n",
      "1か月平均CM視聴率(%)    1000 non-null float64\n",
      "CM視聴率高低          1000 non-null object\n",
      "dtypes: float64(1), int64(12), object(5)\n",
      "memory usage: 140.7+ KB\n"
     ]
    }
   ],
   "source": [
    "import numpy as np\n",
    "import pandas as pd\n",
    "\n",
    "# データの確認（データ数、欠損値の有無、データ型）\n",
    "df = pd.read_csv('dummydata_C.csv', encoding='shift_jis')\n",
    "df.info()"
   ]
  },
  {
   "cell_type": "code",
   "execution_count": 3,
   "metadata": {},
   "outputs": [
    {
     "data": {
      "text/html": [
       "<div>\n",
       "<style scoped>\n",
       "    .dataframe tbody tr th:only-of-type {\n",
       "        vertical-align: middle;\n",
       "    }\n",
       "\n",
       "    .dataframe tbody tr th {\n",
       "        vertical-align: top;\n",
       "    }\n",
       "\n",
       "    .dataframe thead th {\n",
       "        text-align: right;\n",
       "    }\n",
       "</style>\n",
       "<table border=\"1\" class=\"dataframe\">\n",
       "  <thead>\n",
       "    <tr style=\"text-align: right;\">\n",
       "      <th></th>\n",
       "      <th>年間収入</th>\n",
       "      <th>消費支出額（合計）</th>\n",
       "      <th>食費</th>\n",
       "      <th>住居費</th>\n",
       "      <th>光熱・水道費</th>\n",
       "      <th>家具・家事用品費</th>\n",
       "      <th>被服及び履物費</th>\n",
       "      <th>保健医療費</th>\n",
       "      <th>交通・通信費</th>\n",
       "      <th>教育費</th>\n",
       "      <th>教養娯楽費</th>\n",
       "      <th>その他の消費支出</th>\n",
       "      <th>1か月平均CM視聴率(%)</th>\n",
       "    </tr>\n",
       "  </thead>\n",
       "  <tbody>\n",
       "    <tr>\n",
       "      <th>count</th>\n",
       "      <td>1.000000e+03</td>\n",
       "      <td>1.000000e+03</td>\n",
       "      <td>1000.000000</td>\n",
       "      <td>1000.000000</td>\n",
       "      <td>1000.000000</td>\n",
       "      <td>1000.00000</td>\n",
       "      <td>1000.000000</td>\n",
       "      <td>1000.000000</td>\n",
       "      <td>1.000000e+03</td>\n",
       "      <td>1000.000000</td>\n",
       "      <td>1000.000000</td>\n",
       "      <td>1000.00000</td>\n",
       "      <td>1000.000000</td>\n",
       "    </tr>\n",
       "    <tr>\n",
       "      <th>mean</th>\n",
       "      <td>6.365419e+06</td>\n",
       "      <td>2.999974e+05</td>\n",
       "      <td>68694.875000</td>\n",
       "      <td>17292.885000</td>\n",
       "      <td>19279.501000</td>\n",
       "      <td>9157.34400</td>\n",
       "      <td>12172.793000</td>\n",
       "      <td>13081.059000</td>\n",
       "      <td>4.639980e+04</td>\n",
       "      <td>13802.837000</td>\n",
       "      <td>31694.184000</td>\n",
       "      <td>68422.19000</td>\n",
       "      <td>7.950700</td>\n",
       "    </tr>\n",
       "    <tr>\n",
       "      <th>std</th>\n",
       "      <td>4.018638e+06</td>\n",
       "      <td>1.598484e+05</td>\n",
       "      <td>29887.768666</td>\n",
       "      <td>34011.215114</td>\n",
       "      <td>8615.252276</td>\n",
       "      <td>11641.82388</td>\n",
       "      <td>14103.288952</td>\n",
       "      <td>16483.512764</td>\n",
       "      <td>8.707893e+04</td>\n",
       "      <td>34636.904748</td>\n",
       "      <td>33250.777009</td>\n",
       "      <td>76821.66218</td>\n",
       "      <td>3.971046</td>\n",
       "    </tr>\n",
       "    <tr>\n",
       "      <th>min</th>\n",
       "      <td>8.680000e+05</td>\n",
       "      <td>7.976300e+04</td>\n",
       "      <td>11545.000000</td>\n",
       "      <td>0.000000</td>\n",
       "      <td>4824.000000</td>\n",
       "      <td>127.00000</td>\n",
       "      <td>117.000000</td>\n",
       "      <td>178.000000</td>\n",
       "      <td>1.240000e+02</td>\n",
       "      <td>0.000000</td>\n",
       "      <td>665.000000</td>\n",
       "      <td>3441.00000</td>\n",
       "      <td>0.000000</td>\n",
       "    </tr>\n",
       "    <tr>\n",
       "      <th>25%</th>\n",
       "      <td>3.685250e+06</td>\n",
       "      <td>1.992658e+05</td>\n",
       "      <td>48622.250000</td>\n",
       "      <td>619.000000</td>\n",
       "      <td>12903.250000</td>\n",
       "      <td>2777.25000</td>\n",
       "      <td>4299.000000</td>\n",
       "      <td>4269.250000</td>\n",
       "      <td>1.134750e+04</td>\n",
       "      <td>0.000000</td>\n",
       "      <td>12653.000000</td>\n",
       "      <td>24892.25000</td>\n",
       "      <td>5.275000</td>\n",
       "    </tr>\n",
       "    <tr>\n",
       "      <th>50%</th>\n",
       "      <td>5.473000e+06</td>\n",
       "      <td>2.615260e+05</td>\n",
       "      <td>62884.000000</td>\n",
       "      <td>2958.000000</td>\n",
       "      <td>17823.500000</td>\n",
       "      <td>5511.00000</td>\n",
       "      <td>8041.000000</td>\n",
       "      <td>7728.000000</td>\n",
       "      <td>2.602450e+04</td>\n",
       "      <td>2013.500000</td>\n",
       "      <td>21473.500000</td>\n",
       "      <td>45404.00000</td>\n",
       "      <td>7.900000</td>\n",
       "    </tr>\n",
       "    <tr>\n",
       "      <th>75%</th>\n",
       "      <td>7.885000e+06</td>\n",
       "      <td>3.596910e+05</td>\n",
       "      <td>82736.250000</td>\n",
       "      <td>19702.750000</td>\n",
       "      <td>23566.750000</td>\n",
       "      <td>10560.25000</td>\n",
       "      <td>14347.500000</td>\n",
       "      <td>15390.000000</td>\n",
       "      <td>4.999675e+04</td>\n",
       "      <td>11929.000000</td>\n",
       "      <td>38800.250000</td>\n",
       "      <td>82555.00000</td>\n",
       "      <td>10.700000</td>\n",
       "    </tr>\n",
       "    <tr>\n",
       "      <th>max</th>\n",
       "      <td>4.278600e+07</td>\n",
       "      <td>1.747709e+06</td>\n",
       "      <td>275654.000000</td>\n",
       "      <td>508709.000000</td>\n",
       "      <td>78711.000000</td>\n",
       "      <td>150335.00000</td>\n",
       "      <td>138382.000000</td>\n",
       "      <td>135631.000000</td>\n",
       "      <td>1.612387e+06</td>\n",
       "      <td>446002.000000</td>\n",
       "      <td>311137.000000</td>\n",
       "      <td>977124.00000</td>\n",
       "      <td>23.100000</td>\n",
       "    </tr>\n",
       "  </tbody>\n",
       "</table>\n",
       "</div>"
      ],
      "text/plain": [
       "               年間収入     消費支出額（合計）             食費            住居費        光熱・水道費  \\\n",
       "count  1.000000e+03  1.000000e+03    1000.000000    1000.000000   1000.000000   \n",
       "mean   6.365419e+06  2.999974e+05   68694.875000   17292.885000  19279.501000   \n",
       "std    4.018638e+06  1.598484e+05   29887.768666   34011.215114   8615.252276   \n",
       "min    8.680000e+05  7.976300e+04   11545.000000       0.000000   4824.000000   \n",
       "25%    3.685250e+06  1.992658e+05   48622.250000     619.000000  12903.250000   \n",
       "50%    5.473000e+06  2.615260e+05   62884.000000    2958.000000  17823.500000   \n",
       "75%    7.885000e+06  3.596910e+05   82736.250000   19702.750000  23566.750000   \n",
       "max    4.278600e+07  1.747709e+06  275654.000000  508709.000000  78711.000000   \n",
       "\n",
       "           家具・家事用品費        被服及び履物費          保健医療費        交通・通信費  \\\n",
       "count    1000.00000    1000.000000    1000.000000  1.000000e+03   \n",
       "mean     9157.34400   12172.793000   13081.059000  4.639980e+04   \n",
       "std     11641.82388   14103.288952   16483.512764  8.707893e+04   \n",
       "min       127.00000     117.000000     178.000000  1.240000e+02   \n",
       "25%      2777.25000    4299.000000    4269.250000  1.134750e+04   \n",
       "50%      5511.00000    8041.000000    7728.000000  2.602450e+04   \n",
       "75%     10560.25000   14347.500000   15390.000000  4.999675e+04   \n",
       "max    150335.00000  138382.000000  135631.000000  1.612387e+06   \n",
       "\n",
       "                 教育費          教養娯楽費      その他の消費支出  1か月平均CM視聴率(%)  \n",
       "count    1000.000000    1000.000000    1000.00000    1000.000000  \n",
       "mean    13802.837000   31694.184000   68422.19000       7.950700  \n",
       "std     34636.904748   33250.777009   76821.66218       3.971046  \n",
       "min         0.000000     665.000000    3441.00000       0.000000  \n",
       "25%         0.000000   12653.000000   24892.25000       5.275000  \n",
       "50%      2013.500000   21473.500000   45404.00000       7.900000  \n",
       "75%     11929.000000   38800.250000   82555.00000      10.700000  \n",
       "max    446002.000000  311137.000000  977124.00000      23.100000  "
      ]
     },
     "execution_count": 3,
     "metadata": {},
     "output_type": "execute_result"
    }
   ],
   "source": [
    "#　問題5-1\n",
    "#　基本統計量の確認\n",
    "df.describe()"
   ]
  },
  {
   "cell_type": "code",
   "execution_count": 4,
   "metadata": {},
   "outputs": [
    {
     "data": {
      "text/plain": [
       "<matplotlib.axes._subplots.AxesSubplot at 0x20c39a6d9e8>"
      ]
     },
     "execution_count": 4,
     "metadata": {},
     "output_type": "execute_result"
    },
    {
     "data": {
      "image/png": "[encoded data removed]",
      "text/plain": [
       "<Figure size 432x288 with 1 Axes>"
      ]
     },
     "metadata": {
      "needs_background": "light"
     },
     "output_type": "display_data"
    }
   ],
   "source": [
    "#　問題5-2\n",
    "#　ヒストグラム\n",
    "\n",
    "import matplotlib as plt\n",
    "%matplotlib inline\n",
    "\n",
    "df['1か月平均CM視聴率(%)'].plot(kind='hist', bins=15)"
   ]
  },
  {
   "cell_type": "code",
   "execution_count": 5,
   "metadata": {},
   "outputs": [
    {
     "data": {
      "text/html": [
       "<div>\n",
       "<style scoped>\n",
       "    .dataframe tbody tr th:only-of-type {\n",
       "        vertical-align: middle;\n",
       "    }\n",
       "\n",
       "    .dataframe tbody tr th {\n",
       "        vertical-align: top;\n",
       "    }\n",
       "\n",
       "    .dataframe thead th {\n",
       "        text-align: right;\n",
       "    }\n",
       "</style>\n",
       "<table border=\"1\" class=\"dataframe\">\n",
       "  <thead>\n",
       "    <tr style=\"text-align: right;\">\n",
       "      <th>居住地域</th>\n",
       "      <th>1_3大都市圏</th>\n",
       "      <th>2_非3大都市圏</th>\n",
       "    </tr>\n",
       "    <tr>\n",
       "      <th>CM視聴率高低</th>\n",
       "      <th></th>\n",
       "      <th></th>\n",
       "    </tr>\n",
       "  </thead>\n",
       "  <tbody>\n",
       "    <tr>\n",
       "      <th>1_視聴率高</th>\n",
       "      <td>0.507937</td>\n",
       "      <td>0.492063</td>\n",
       "    </tr>\n",
       "    <tr>\n",
       "      <th>2_視聴率中以下</th>\n",
       "      <td>0.505109</td>\n",
       "      <td>0.494891</td>\n",
       "    </tr>\n",
       "  </tbody>\n",
       "</table>\n",
       "</div>"
      ],
      "text/plain": [
       "居住地域       1_3大都市圏  2_非3大都市圏\n",
       "CM視聴率高低                     \n",
       "1_視聴率高    0.507937  0.492063\n",
       "2_視聴率中以下  0.505109  0.494891"
      ]
     },
     "execution_count": 5,
     "metadata": {},
     "output_type": "execute_result"
    }
   ],
   "source": [
    "#　問題5-2\n",
    "#　クロス集計表\n",
    "\n",
    "pd.crosstab(index=df['CM視聴率高低'],\n",
    "            columns=df['居住地域'],\n",
    "            normalize='index')"
   ]
  },
  {
   "cell_type": "code",
   "execution_count": 6,
   "metadata": {},
   "outputs": [
    {
     "data": {
      "text/html": [
       "<div>\n",
       "<style scoped>\n",
       "    .dataframe tbody tr th:only-of-type {\n",
       "        vertical-align: middle;\n",
       "    }\n",
       "\n",
       "    .dataframe tbody tr th {\n",
       "        vertical-align: top;\n",
       "    }\n",
       "\n",
       "    .dataframe thead th {\n",
       "        text-align: right;\n",
       "    }\n",
       "</style>\n",
       "<table border=\"1\" class=\"dataframe\">\n",
       "  <thead>\n",
       "    <tr style=\"text-align: right;\">\n",
       "      <th>子ども有無</th>\n",
       "      <th>1_子ども有</th>\n",
       "      <th>2_子ども無</th>\n",
       "    </tr>\n",
       "    <tr>\n",
       "      <th>CM視聴率高低</th>\n",
       "      <th></th>\n",
       "      <th></th>\n",
       "    </tr>\n",
       "  </thead>\n",
       "  <tbody>\n",
       "    <tr>\n",
       "      <th>1_視聴率高</th>\n",
       "      <td>0.717460</td>\n",
       "      <td>0.282540</td>\n",
       "    </tr>\n",
       "    <tr>\n",
       "      <th>2_視聴率中以下</th>\n",
       "      <td>0.748905</td>\n",
       "      <td>0.251095</td>\n",
       "    </tr>\n",
       "  </tbody>\n",
       "</table>\n",
       "</div>"
      ],
      "text/plain": [
       "子ども有無       1_子ども有    2_子ども無\n",
       "CM視聴率高低                     \n",
       "1_視聴率高    0.717460  0.282540\n",
       "2_視聴率中以下  0.748905  0.251095"
      ]
     },
     "execution_count": 6,
     "metadata": {},
     "output_type": "execute_result"
    }
   ],
   "source": [
    "pd.crosstab(index=df['CM視聴率高低'],\n",
    "            columns=df['子ども有無'],\n",
    "            normalize='index')"
   ]
  },
  {
   "cell_type": "code",
   "execution_count": 7,
   "metadata": {},
   "outputs": [
    {
     "data": {
      "text/html": [
       "<div>\n",
       "<style scoped>\n",
       "    .dataframe tbody tr th:only-of-type {\n",
       "        vertical-align: middle;\n",
       "    }\n",
       "\n",
       "    .dataframe tbody tr th {\n",
       "        vertical-align: top;\n",
       "    }\n",
       "\n",
       "    .dataframe thead th {\n",
       "        text-align: right;\n",
       "    }\n",
       "</style>\n",
       "<table border=\"1\" class=\"dataframe\">\n",
       "  <thead>\n",
       "    <tr style=\"text-align: right;\">\n",
       "      <th>企業規模</th>\n",
       "      <th>1_大企業</th>\n",
       "      <th>2_中小企業</th>\n",
       "    </tr>\n",
       "    <tr>\n",
       "      <th>CM視聴率高低</th>\n",
       "      <th></th>\n",
       "      <th></th>\n",
       "    </tr>\n",
       "  </thead>\n",
       "  <tbody>\n",
       "    <tr>\n",
       "      <th>1_視聴率高</th>\n",
       "      <td>0.330159</td>\n",
       "      <td>0.669841</td>\n",
       "    </tr>\n",
       "    <tr>\n",
       "      <th>2_視聴率中以下</th>\n",
       "      <td>0.329927</td>\n",
       "      <td>0.670073</td>\n",
       "    </tr>\n",
       "  </tbody>\n",
       "</table>\n",
       "</div>"
      ],
      "text/plain": [
       "企業規模         1_大企業    2_中小企業\n",
       "CM視聴率高低                     \n",
       "1_視聴率高    0.330159  0.669841\n",
       "2_視聴率中以下  0.329927  0.670073"
      ]
     },
     "execution_count": 7,
     "metadata": {},
     "output_type": "execute_result"
    }
   ],
   "source": [
    "pd.crosstab(index=df['CM視聴率高低'],\n",
    "            columns=df['企業規模'],\n",
    "            normalize='index')"
   ]
  },
  {
   "cell_type": "code",
   "execution_count": 8,
   "metadata": {},
   "outputs": [
    {
     "name": "stdout",
     "output_type": "stream",
     "text": [
      "<class 'pandas.core.frame.DataFrame'>\n",
      "RangeIndex: 800 entries, 0 to 799\n",
      "Data columns (total 20 columns):\n",
      "data_id          800 non-null object\n",
      "居住地域             800 non-null object\n",
      "企業規模             800 non-null object\n",
      "子ども有無            800 non-null object\n",
      "年間収入             800 non-null int64\n",
      "消費支出額（合計）        800 non-null int64\n",
      "食費               800 non-null int64\n",
      "住居費              800 non-null int64\n",
      "光熱・水道費           800 non-null int64\n",
      "家具・家事用品費         800 non-null int64\n",
      "被服及び履物費          800 non-null int64\n",
      "保健医療費            800 non-null int64\n",
      "交通・通信費           800 non-null int64\n",
      "教育費              800 non-null int64\n",
      "教養娯楽費            800 non-null int64\n",
      "その他の消費支出         800 non-null int64\n",
      "1か月平均DM視聴率(%)    800 non-null float64\n",
      "ＣM視聴率高低          800 non-null object\n",
      "割付（A/B）          800 non-null object\n",
      "購入意向             800 non-null int64\n",
      "dtypes: float64(1), int64(13), object(6)\n",
      "memory usage: 125.1+ KB\n"
     ]
    }
   ],
   "source": [
    "# 問題5-7\n",
    "df_D = pd.read_csv('dummydata_D.csv', encoding='shift_jis')\n",
    "df_D.info()"
   ]
  },
  {
   "cell_type": "code",
   "execution_count": 9,
   "metadata": {},
   "outputs": [
    {
     "data": {
      "text/html": [
       "<div>\n",
       "<style scoped>\n",
       "    .dataframe tbody tr th:only-of-type {\n",
       "        vertical-align: middle;\n",
       "    }\n",
       "\n",
       "    .dataframe tbody tr th {\n",
       "        vertical-align: top;\n",
       "    }\n",
       "\n",
       "    .dataframe thead th {\n",
       "        text-align: right;\n",
       "    }\n",
       "</style>\n",
       "<table border=\"1\" class=\"dataframe\">\n",
       "  <thead>\n",
       "    <tr style=\"text-align: right;\">\n",
       "      <th>購入意向</th>\n",
       "      <th>1</th>\n",
       "      <th>2</th>\n",
       "      <th>3</th>\n",
       "      <th>4</th>\n",
       "      <th>5</th>\n",
       "    </tr>\n",
       "    <tr>\n",
       "      <th>割付（A/B）</th>\n",
       "      <th></th>\n",
       "      <th></th>\n",
       "      <th></th>\n",
       "      <th></th>\n",
       "      <th></th>\n",
       "    </tr>\n",
       "  </thead>\n",
       "  <tbody>\n",
       "    <tr>\n",
       "      <th>A</th>\n",
       "      <td>0.105</td>\n",
       "      <td>0.430</td>\n",
       "      <td>0.3025</td>\n",
       "      <td>0.1175</td>\n",
       "      <td>0.0450</td>\n",
       "    </tr>\n",
       "    <tr>\n",
       "      <th>B</th>\n",
       "      <td>0.045</td>\n",
       "      <td>0.285</td>\n",
       "      <td>0.3375</td>\n",
       "      <td>0.2150</td>\n",
       "      <td>0.1175</td>\n",
       "    </tr>\n",
       "  </tbody>\n",
       "</table>\n",
       "</div>"
      ],
      "text/plain": [
       "購入意向         1      2       3       4       5\n",
       "割付（A/B）                                      \n",
       "A        0.105  0.430  0.3025  0.1175  0.0450\n",
       "B        0.045  0.285  0.3375  0.2150  0.1175"
      ]
     },
     "execution_count": 9,
     "metadata": {},
     "output_type": "execute_result"
    },
    {
     "data": {
      "image/png": "[encoded data removed]",
      "text/plain": [
       "<Figure size 432x288 with 1 Axes>"
      ]
     },
     "metadata": {
      "needs_background": "light"
     },
     "output_type": "display_data"
    }
   ],
   "source": [
    "# 問題5-7\n",
    "# A/Bで購入意向ごとにヒストグラム作成\n",
    "df_D.groupby('割付（A/B）').購入意向.plot(kind='hist', alpha=0.3, legend=True)\n",
    "\n",
    "# A/と購入意向のクロス集計表\n",
    "pd.crosstab(index=df_D['割付（A/B）'],\n",
    "            columns=df_D['購入意向'],\n",
    "            normalize='index')"
   ]
  },
  {
   "cell_type": "code",
   "execution_count": 10,
   "metadata": {},
   "outputs": [
    {
     "data": {
      "text/html": [
       "<div>\n",
       "<style scoped>\n",
       "    .dataframe tbody tr th:only-of-type {\n",
       "        vertical-align: middle;\n",
       "    }\n",
       "\n",
       "    .dataframe tbody tr th {\n",
       "        vertical-align: top;\n",
       "    }\n",
       "\n",
       "    .dataframe thead th {\n",
       "        text-align: right;\n",
       "    }\n",
       "</style>\n",
       "<table border=\"1\" class=\"dataframe\">\n",
       "  <thead>\n",
       "    <tr style=\"text-align: right;\">\n",
       "      <th></th>\n",
       "      <th>count</th>\n",
       "      <th>mean</th>\n",
       "      <th>std</th>\n",
       "      <th>min</th>\n",
       "      <th>25%</th>\n",
       "      <th>50%</th>\n",
       "      <th>75%</th>\n",
       "      <th>max</th>\n",
       "    </tr>\n",
       "    <tr>\n",
       "      <th>割付（A/B）</th>\n",
       "      <th></th>\n",
       "      <th></th>\n",
       "      <th></th>\n",
       "      <th></th>\n",
       "      <th></th>\n",
       "      <th></th>\n",
       "      <th></th>\n",
       "      <th></th>\n",
       "    </tr>\n",
       "  </thead>\n",
       "  <tbody>\n",
       "    <tr>\n",
       "      <th>A</th>\n",
       "      <td>400.0</td>\n",
       "      <td>2.5675</td>\n",
       "      <td>0.981250</td>\n",
       "      <td>1.0</td>\n",
       "      <td>2.0</td>\n",
       "      <td>2.0</td>\n",
       "      <td>3.0</td>\n",
       "      <td>5.0</td>\n",
       "    </tr>\n",
       "    <tr>\n",
       "      <th>B</th>\n",
       "      <td>400.0</td>\n",
       "      <td>3.0750</td>\n",
       "      <td>1.071094</td>\n",
       "      <td>1.0</td>\n",
       "      <td>2.0</td>\n",
       "      <td>3.0</td>\n",
       "      <td>4.0</td>\n",
       "      <td>5.0</td>\n",
       "    </tr>\n",
       "  </tbody>\n",
       "</table>\n",
       "</div>"
      ],
      "text/plain": [
       "         count    mean       std  min  25%  50%  75%  max\n",
       "割付（A/B）                                                  \n",
       "A        400.0  2.5675  0.981250  1.0  2.0  2.0  3.0  5.0\n",
       "B        400.0  3.0750  1.071094  1.0  2.0  3.0  4.0  5.0"
      ]
     },
     "execution_count": 10,
     "metadata": {},
     "output_type": "execute_result"
    }
   ],
   "source": [
    "df_D.groupby('割付（A/B）').購入意向.describe()"
   ]
  },
  {
   "cell_type": "code",
   "execution_count": 11,
   "metadata": {},
   "outputs": [
    {
     "name": "stdout",
     "output_type": "stream",
     "text": [
      "<class 'pandas.core.frame.DataFrame'>\n",
      "RangeIndex: 1000 entries, 0 to 999\n",
      "Data columns (total 13 columns):\n",
      "data_id      1000 non-null object\n",
      "年間収入（円）      1000 non-null int64\n",
      "消費支出額（合計）    1000 non-null int64\n",
      "食費           1000 non-null int64\n",
      "住居費          1000 non-null int64\n",
      "光熱・水道費       1000 non-null int64\n",
      "家具・家事用品費     1000 non-null int64\n",
      "被服及び履物費      1000 non-null int64\n",
      "保健医療費        1000 non-null int64\n",
      "交通・通信費       1000 non-null int64\n",
      "教育費          1000 non-null int64\n",
      "教養娯楽費        1000 non-null int64\n",
      "その他の消費支出     1000 non-null int64\n",
      "dtypes: int64(12), object(1)\n",
      "memory usage: 101.6+ KB\n"
     ]
    }
   ],
   "source": [
    "# 問題5-9\n",
    "df_E = pd.read_csv('dummydata_E.csv', encoding='shift_jis')\n",
    "df_E.info()"
   ]
  },
  {
   "cell_type": "code",
   "execution_count": 12,
   "metadata": {},
   "outputs": [
    {
     "data": {
      "text/plain": [
       "<matplotlib.axes._subplots.AxesSubplot at 0x20c39f02fd0>"
      ]
     },
     "execution_count": 12,
     "metadata": {},
     "output_type": "execute_result"
    },
    {
     "data": {
      "image/png": "[encoded data removed]",
      "text/plain": [
       "<Figure size 432x288 with 1 Axes>"
      ]
     },
     "metadata": {
      "needs_background": "light"
     },
     "output_type": "display_data"
    }
   ],
   "source": [
    "df_E[\"年間収入（円）\"].plot(kind='hist', bins=20, rot=50)"
   ]
  },
  {
   "cell_type": "code",
   "execution_count": 13,
   "metadata": {},
   "outputs": [
    {
     "data": {
      "text/html": [
       "<div>\n",
       "<style scoped>\n",
       "    .dataframe tbody tr th:only-of-type {\n",
       "        vertical-align: middle;\n",
       "    }\n",
       "\n",
       "    .dataframe tbody tr th {\n",
       "        vertical-align: top;\n",
       "    }\n",
       "\n",
       "    .dataframe thead th {\n",
       "        text-align: right;\n",
       "    }\n",
       "</style>\n",
       "<table border=\"1\" class=\"dataframe\">\n",
       "  <thead>\n",
       "    <tr style=\"text-align: right;\">\n",
       "      <th></th>\n",
       "      <th>年間収入（円）</th>\n",
       "      <th>食費</th>\n",
       "      <th>被服及び履物費</th>\n",
       "      <th>光熱・水道費</th>\n",
       "    </tr>\n",
       "  </thead>\n",
       "  <tbody>\n",
       "    <tr>\n",
       "      <th>年間収入（円）</th>\n",
       "      <td>1.000000</td>\n",
       "      <td>0.355855</td>\n",
       "      <td>0.588012</td>\n",
       "      <td>0.287152</td>\n",
       "    </tr>\n",
       "    <tr>\n",
       "      <th>食費</th>\n",
       "      <td>0.355855</td>\n",
       "      <td>1.000000</td>\n",
       "      <td>0.232630</td>\n",
       "      <td>0.361503</td>\n",
       "    </tr>\n",
       "    <tr>\n",
       "      <th>被服及び履物費</th>\n",
       "      <td>0.588012</td>\n",
       "      <td>0.232630</td>\n",
       "      <td>1.000000</td>\n",
       "      <td>0.123325</td>\n",
       "    </tr>\n",
       "    <tr>\n",
       "      <th>光熱・水道費</th>\n",
       "      <td>0.287152</td>\n",
       "      <td>0.361503</td>\n",
       "      <td>0.123325</td>\n",
       "      <td>1.000000</td>\n",
       "    </tr>\n",
       "  </tbody>\n",
       "</table>\n",
       "</div>"
      ],
      "text/plain": [
       "          年間収入（円）        食費   被服及び履物費    光熱・水道費\n",
       "年間収入（円）  1.000000  0.355855  0.588012  0.287152\n",
       "食費       0.355855  1.000000  0.232630  0.361503\n",
       "被服及び履物費  0.588012  0.232630  1.000000  0.123325\n",
       "光熱・水道費   0.287152  0.361503  0.123325  1.000000"
      ]
     },
     "execution_count": 13,
     "metadata": {},
     "output_type": "execute_result"
    }
   ],
   "source": [
    "# 問題5-10\n",
    "# 相関係数を算出\n",
    "df_E[['年間収入（円）', '食費', '被服及び履物費','光熱・水道費']].corr()"
   ]
  },
  {
   "cell_type": "code",
   "execution_count": 14,
   "metadata": {},
   "outputs": [
    {
     "data": {
      "text/html": [
       "<div>\n",
       "<style scoped>\n",
       "    .dataframe tbody tr th:only-of-type {\n",
       "        vertical-align: middle;\n",
       "    }\n",
       "\n",
       "    .dataframe tbody tr th {\n",
       "        vertical-align: top;\n",
       "    }\n",
       "\n",
       "    .dataframe thead th {\n",
       "        text-align: right;\n",
       "    }\n",
       "</style>\n",
       "<table border=\"1\" class=\"dataframe\">\n",
       "  <thead>\n",
       "    <tr style=\"text-align: right;\">\n",
       "      <th></th>\n",
       "      <th>年間収入（円）</th>\n",
       "      <th>食費</th>\n",
       "      <th>被服及び履物費</th>\n",
       "      <th>光熱・水道費</th>\n",
       "    </tr>\n",
       "  </thead>\n",
       "  <tbody>\n",
       "    <tr>\n",
       "      <th>count</th>\n",
       "      <td>1000.0</td>\n",
       "      <td>1000.0</td>\n",
       "      <td>1000.0</td>\n",
       "      <td>1000.0</td>\n",
       "    </tr>\n",
       "    <tr>\n",
       "      <th>mean</th>\n",
       "      <td>4762067.0</td>\n",
       "      <td>61502.0</td>\n",
       "      <td>9942.0</td>\n",
       "      <td>18133.0</td>\n",
       "    </tr>\n",
       "    <tr>\n",
       "      <th>std</th>\n",
       "      <td>1678663.0</td>\n",
       "      <td>24330.0</td>\n",
       "      <td>4237.0</td>\n",
       "      <td>7411.0</td>\n",
       "    </tr>\n",
       "    <tr>\n",
       "      <th>min</th>\n",
       "      <td>819152.0</td>\n",
       "      <td>12962.0</td>\n",
       "      <td>0.0</td>\n",
       "      <td>5416.0</td>\n",
       "    </tr>\n",
       "    <tr>\n",
       "      <th>25%</th>\n",
       "      <td>3505179.0</td>\n",
       "      <td>43914.0</td>\n",
       "      <td>7185.0</td>\n",
       "      <td>12933.0</td>\n",
       "    </tr>\n",
       "    <tr>\n",
       "      <th>50%</th>\n",
       "      <td>4659818.0</td>\n",
       "      <td>58618.0</td>\n",
       "      <td>9882.0</td>\n",
       "      <td>16983.0</td>\n",
       "    </tr>\n",
       "    <tr>\n",
       "      <th>75%</th>\n",
       "      <td>6101414.0</td>\n",
       "      <td>73769.0</td>\n",
       "      <td>12708.0</td>\n",
       "      <td>21248.0</td>\n",
       "    </tr>\n",
       "    <tr>\n",
       "      <th>max</th>\n",
       "      <td>7972387.0</td>\n",
       "      <td>284100.0</td>\n",
       "      <td>60000.0</td>\n",
       "      <td>61718.0</td>\n",
       "    </tr>\n",
       "  </tbody>\n",
       "</table>\n",
       "</div>"
      ],
      "text/plain": [
       "         年間収入（円）        食費  被服及び履物費   光熱・水道費\n",
       "count     1000.0    1000.0   1000.0   1000.0\n",
       "mean   4762067.0   61502.0   9942.0  18133.0\n",
       "std    1678663.0   24330.0   4237.0   7411.0\n",
       "min     819152.0   12962.0      0.0   5416.0\n",
       "25%    3505179.0   43914.0   7185.0  12933.0\n",
       "50%    4659818.0   58618.0   9882.0  16983.0\n",
       "75%    6101414.0   73769.0  12708.0  21248.0\n",
       "max    7972387.0  284100.0  60000.0  61718.0"
      ]
     },
     "execution_count": 14,
     "metadata": {},
     "output_type": "execute_result"
    }
   ],
   "source": [
    "# 問題5-11\n",
    "# 基本統計量の算出\n",
    "df_E[['年間収入（円）', '食費', '被服及び履物費','光熱・水道費']].describe().round()"
   ]
  },
  {
   "cell_type": "code",
   "execution_count": 15,
   "metadata": {},
   "outputs": [
    {
     "data": {
      "text/plain": [
       "<matplotlib.axes._subplots.AxesSubplot at 0x20c39dadb38>"
      ]
     },
     "execution_count": 15,
     "metadata": {},
     "output_type": "execute_result"
    },
    {
     "name": "stderr",
     "output_type": "stream",
     "text": [
      "C:\\Users\\programing\\Miniconda3\\envs\\ML\\lib\\site-packages\\matplotlib\\backends\\backend_agg.py:211: RuntimeWarning: Glyph 24180 missing from current font.\n",
      "  font.set_text(s, 0.0, flags=flags)\n",
      "C:\\Users\\programing\\Miniconda3\\envs\\ML\\lib\\site-packages\\matplotlib\\backends\\backend_agg.py:211: RuntimeWarning: Glyph 38291 missing from current font.\n",
      "  font.set_text(s, 0.0, flags=flags)\n",
      "C:\\Users\\programing\\Miniconda3\\envs\\ML\\lib\\site-packages\\matplotlib\\backends\\backend_agg.py:211: RuntimeWarning: Glyph 21454 missing from current font.\n",
      "  font.set_text(s, 0.0, flags=flags)\n",
      "C:\\Users\\programing\\Miniconda3\\envs\\ML\\lib\\site-packages\\matplotlib\\backends\\backend_agg.py:211: RuntimeWarning: Glyph 20837 missing from current font.\n",
      "  font.set_text(s, 0.0, flags=flags)\n",
      "C:\\Users\\programing\\Miniconda3\\envs\\ML\\lib\\site-packages\\matplotlib\\backends\\backend_agg.py:211: RuntimeWarning: Glyph 65288 missing from current font.\n",
      "  font.set_text(s, 0.0, flags=flags)\n",
      "C:\\Users\\programing\\Miniconda3\\envs\\ML\\lib\\site-packages\\matplotlib\\backends\\backend_agg.py:211: RuntimeWarning: Glyph 20870 missing from current font.\n",
      "  font.set_text(s, 0.0, flags=flags)\n",
      "C:\\Users\\programing\\Miniconda3\\envs\\ML\\lib\\site-packages\\matplotlib\\backends\\backend_agg.py:211: RuntimeWarning: Glyph 65289 missing from current font.\n",
      "  font.set_text(s, 0.0, flags=flags)\n",
      "C:\\Users\\programing\\Miniconda3\\envs\\ML\\lib\\site-packages\\matplotlib\\backends\\backend_agg.py:180: RuntimeWarning: Glyph 24180 missing from current font.\n",
      "  font.set_text(s, 0, flags=flags)\n",
      "C:\\Users\\programing\\Miniconda3\\envs\\ML\\lib\\site-packages\\matplotlib\\backends\\backend_agg.py:180: RuntimeWarning: Glyph 38291 missing from current font.\n",
      "  font.set_text(s, 0, flags=flags)\n",
      "C:\\Users\\programing\\Miniconda3\\envs\\ML\\lib\\site-packages\\matplotlib\\backends\\backend_agg.py:180: RuntimeWarning: Glyph 21454 missing from current font.\n",
      "  font.set_text(s, 0, flags=flags)\n",
      "C:\\Users\\programing\\Miniconda3\\envs\\ML\\lib\\site-packages\\matplotlib\\backends\\backend_agg.py:180: RuntimeWarning: Glyph 20837 missing from current font.\n",
      "  font.set_text(s, 0, flags=flags)\n",
      "C:\\Users\\programing\\Miniconda3\\envs\\ML\\lib\\site-packages\\matplotlib\\backends\\backend_agg.py:180: RuntimeWarning: Glyph 65288 missing from current font.\n",
      "  font.set_text(s, 0, flags=flags)\n",
      "C:\\Users\\programing\\Miniconda3\\envs\\ML\\lib\\site-packages\\matplotlib\\backends\\backend_agg.py:180: RuntimeWarning: Glyph 20870 missing from current font.\n",
      "  font.set_text(s, 0, flags=flags)\n",
      "C:\\Users\\programing\\Miniconda3\\envs\\ML\\lib\\site-packages\\matplotlib\\backends\\backend_agg.py:180: RuntimeWarning: Glyph 65289 missing from current font.\n",
      "  font.set_text(s, 0, flags=flags)\n",
      "C:\\Users\\programing\\Miniconda3\\envs\\ML\\lib\\site-packages\\matplotlib\\backends\\backend_agg.py:211: RuntimeWarning: Glyph 34987 missing from current font.\n",
      "  font.set_text(s, 0.0, flags=flags)\n",
      "C:\\Users\\programing\\Miniconda3\\envs\\ML\\lib\\site-packages\\matplotlib\\backends\\backend_agg.py:211: RuntimeWarning: Glyph 26381 missing from current font.\n",
      "  font.set_text(s, 0.0, flags=flags)\n",
      "C:\\Users\\programing\\Miniconda3\\envs\\ML\\lib\\site-packages\\matplotlib\\backends\\backend_agg.py:211: RuntimeWarning: Glyph 21450 missing from current font.\n",
      "  font.set_text(s, 0.0, flags=flags)\n",
      "C:\\Users\\programing\\Miniconda3\\envs\\ML\\lib\\site-packages\\matplotlib\\backends\\backend_agg.py:211: RuntimeWarning: Glyph 12403 missing from current font.\n",
      "  font.set_text(s, 0.0, flags=flags)\n",
      "C:\\Users\\programing\\Miniconda3\\envs\\ML\\lib\\site-packages\\matplotlib\\backends\\backend_agg.py:211: RuntimeWarning: Glyph 23653 missing from current font.\n",
      "  font.set_text(s, 0.0, flags=flags)\n",
      "C:\\Users\\programing\\Miniconda3\\envs\\ML\\lib\\site-packages\\matplotlib\\backends\\backend_agg.py:211: RuntimeWarning: Glyph 29289 missing from current font.\n",
      "  font.set_text(s, 0.0, flags=flags)\n",
      "C:\\Users\\programing\\Miniconda3\\envs\\ML\\lib\\site-packages\\matplotlib\\backends\\backend_agg.py:211: RuntimeWarning: Glyph 36027 missing from current font.\n",
      "  font.set_text(s, 0.0, flags=flags)\n",
      "C:\\Users\\programing\\Miniconda3\\envs\\ML\\lib\\site-packages\\matplotlib\\backends\\backend_agg.py:180: RuntimeWarning: Glyph 34987 missing from current font.\n",
      "  font.set_text(s, 0, flags=flags)\n",
      "C:\\Users\\programing\\Miniconda3\\envs\\ML\\lib\\site-packages\\matplotlib\\backends\\backend_agg.py:180: RuntimeWarning: Glyph 26381 missing from current font.\n",
      "  font.set_text(s, 0, flags=flags)\n",
      "C:\\Users\\programing\\Miniconda3\\envs\\ML\\lib\\site-packages\\matplotlib\\backends\\backend_agg.py:180: RuntimeWarning: Glyph 21450 missing from current font.\n",
      "  font.set_text(s, 0, flags=flags)\n",
      "C:\\Users\\programing\\Miniconda3\\envs\\ML\\lib\\site-packages\\matplotlib\\backends\\backend_agg.py:180: RuntimeWarning: Glyph 12403 missing from current font.\n",
      "  font.set_text(s, 0, flags=flags)\n",
      "C:\\Users\\programing\\Miniconda3\\envs\\ML\\lib\\site-packages\\matplotlib\\backends\\backend_agg.py:180: RuntimeWarning: Glyph 23653 missing from current font.\n",
      "  font.set_text(s, 0, flags=flags)\n",
      "C:\\Users\\programing\\Miniconda3\\envs\\ML\\lib\\site-packages\\matplotlib\\backends\\backend_agg.py:180: RuntimeWarning: Glyph 29289 missing from current font.\n",
      "  font.set_text(s, 0, flags=flags)\n",
      "C:\\Users\\programing\\Miniconda3\\envs\\ML\\lib\\site-packages\\matplotlib\\backends\\backend_agg.py:180: RuntimeWarning: Glyph 36027 missing from current font.\n",
      "  font.set_text(s, 0, flags=flags)\n"
     ]
    },
    {
     "data": {
      "image/png": "[encoded data removed]",
      "text/plain": [
       "<Figure size 432x288 with 1 Axes>"
      ]
     },
     "metadata": {
      "needs_background": "light"
     },
     "output_type": "display_data"
    }
   ],
   "source": [
    "# 問題5-12\n",
    "# 散布図\n",
    "\n",
    "df_E.plot(kind='scatter', x= '年間収入（円）', y='被服及び履物費', rot=50)"
   ]
  },
  {
   "cell_type": "code",
   "execution_count": null,
   "metadata": {},
   "outputs": [],
   "source": []
  },
  {
   "cell_type": "code",
   "execution_count": 16,
   "metadata": {},
   "outputs": [
    {
     "name": "stdout",
     "output_type": "stream",
     "text": [
      "[[0.00148403]] [2874.78987101]\n"
     ]
    },
    {
     "data": {
      "text/plain": [
       "0.3457586364724745"
      ]
     },
     "execution_count": 16,
     "metadata": {},
     "output_type": "execute_result"
    }
   ],
   "source": [
    "# 問題5-13\n",
    "# 目的変数を「被服及び履物費」、説明変数を「年間収入（円）」とした線形回帰\n",
    "\n",
    "from sklearn.linear_model import LinearRegression\n",
    "from sklearn.metrics import r2_score\n",
    "\n",
    "x= df_E['年間収入（円）'].values.reshape(-1, 1)\n",
    "y= df_E['被服及び履物費'].values.reshape(-1, 1)\n",
    "lr =  LinearRegression().fit(x,y)\n",
    "\n",
    "print(lr.coef_, lr.intercept_)\n",
    "lr.score(x,y)"
   ]
  },
  {
   "cell_type": "code",
   "execution_count": 17,
   "metadata": {},
   "outputs": [
    {
     "ename": "SyntaxError",
     "evalue": "invalid character in identifier (<ipython-input-17-ec81c6ffde2c>, line 8)",
     "output_type": "error",
     "traceback": [
      "\u001b[1;36m  File \u001b[1;32m\"<ipython-input-17-ec81c6ffde2c>\"\u001b[1;36m, line \u001b[1;32m8\u001b[0m\n\u001b[1;33m    pd.Series(predicted).value_counts()　# -1が外れ値\u001b[0m\n\u001b[1;37m                                       ^\u001b[0m\n\u001b[1;31mSyntaxError\u001b[0m\u001b[1;31m:\u001b[0m invalid character in identifier\n"
     ]
    }
   ],
   "source": [
    "# 問題5-14\n",
    "# 外れ値を検出、個数確認\n",
    "from sklearn.neighbors import LocalOutlierFactor\n",
    "local_outlier_factor = LocalOutlierFactor(contamination=0.001, novelty=True)\n",
    "local_outlier_factor.fit(x,y)\n",
    "predicted = local_outlier_factor.predict(x)\n",
    "\n",
    "pd.Series(predicted).value_counts()　# -1が外れ値"
   ]
  },
  {
   "cell_type": "code",
   "execution_count": null,
   "metadata": {},
   "outputs": [],
   "source": [
    "def replace_outlier(series, bias=2.0):\n",
    "    #四分位数\n",
    "    q1 = series.quantile(.25)\n",
    "    q3 = series.quantile(.75)\n",
    "    iqr = q3 - q1\n",
    "\n",
    "    #外れ値の基準点\n",
    "    outlier_min = q1 - (iqr) * bias\n",
    "    outlier_max = q3 + (iqr) * bias\n",
    "\n",
    "    print(\"outlier_min :\" + str(outlier_min) + \", outlier_max :\" + str(outlier_max))\n",
    "\n",
    "    #外れ値をクリップする\n",
    "    series = series.clip(outlier_min, outlier_max)\n",
    "    return series"
   ]
  },
  {
   "cell_type": "code",
   "execution_count": null,
   "metadata": {},
   "outputs": [],
   "source": [
    "df_repE= replace_outlier(df_E['被服及び履物費'])"
   ]
  },
  {
   "cell_type": "code",
   "execution_count": null,
   "metadata": {},
   "outputs": [],
   "source": [
    "x= df_E['年間収入（円）'].values.reshape(-1, 1)\n",
    "y= df_repE.values.reshape(-1, 1)\n",
    "lr =  LinearRegression().fit(x,y)\n",
    "\n",
    "print(lr.coef_, lr.intercept_)"
   ]
  },
  {
   "cell_type": "code",
   "execution_count": null,
   "metadata": {},
   "outputs": [],
   "source": [
    "q1"
   ]
  },
  {
   "cell_type": "code",
   "execution_count": null,
   "metadata": {},
   "outputs": [],
   "source": [
    "#　問題4-5\n",
    "#　「年間収入」と「被服及び履物費」の散布図\n",
    "df.plot(kind='scatter', x='年間収入(円)', y= '被服及び履物費')\n",
    "\n",
    "x= df['年間収入(円)'].values.reshape(-1, 1)\n",
    "y= df['被服及び履物費'].values.reshape(-1, 1)\n",
    "Ir =  LinearRegression().fit(x,y)\n",
    "\n",
    "print(Ir.coef_, Ir.intercept_)\n",
    "Ir.score(x,y)"
   ]
  }
 ],
 "metadata": {
  "kernelspec": {
   "display_name": "Python 3",
   "language": "python",
   "name": "python3"
  },
  "language_info": {
   "codemirror_mode": {
    "name": "ipython",
    "version": 3
   },
   "file_extension": ".py",
   "mimetype": "text/x-python",
   "name": "python",
   "nbconvert_exporter": "python",
   "pygments_lexer": "ipython3",
   "version": "3.7.3"
  }
 },
 "nbformat": 4,
 "nbformat_minor": 2
}
